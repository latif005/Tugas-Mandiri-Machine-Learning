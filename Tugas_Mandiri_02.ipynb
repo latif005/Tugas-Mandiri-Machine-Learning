{
  "nbformat": 4,
  "nbformat_minor": 0,
  "metadata": {
    "colab": {
      "provenance": []
    },
    "kernelspec": {
      "name": "python3",
      "display_name": "Python 3"
    },
    "language_info": {
      "name": "python"
    }
  },
  "cells": [
    {
      "cell_type": "code",
      "execution_count": null,
      "metadata": {
        "colab": {
          "base_uri": "https://localhost:8080/"
        },
        "id": "jZVaDpTLm8nr",
        "outputId": "6c52eb39-6d4d-4ace-d700-c69231cfb55b"
      },
      "outputs": [
        {
          "output_type": "stream",
          "name": "stdout",
          "text": [
            "Mounted at /content/drive\n"
          ]
        }
      ],
      "source": [
        "from google.colab import drive\n",
        "drive.mount('/content/drive')"
      ]
    },
    {
      "cell_type": "code",
      "source": [
        "path = ('/content/drive/MyDrive/praktikumML/tugas02')"
      ],
      "metadata": {
        "id": "xSXpkdFYnSnt"
      },
      "execution_count": null,
      "outputs": []
    },
    {
      "cell_type": "code",
      "source": [
        "import pandas as pd\n",
        "from sklearn.model_selection import train_test_split\n",
        "\n",
        "# 1.Baca dataset\n",
        "df = pd.read_csv('/content/drive/MyDrive/praktikumML/tugas02/data/day.csv')\n",
        "\n",
        "# 2. Bagi data: 80% training, 20% testing\n",
        "train_data, test_data = train_test_split(df, test_size=0.2, random_state=42)\n",
        "\n",
        "# 3. Dari training, ambil 10% untuk Validation\n",
        "train_data, val_data = train_test_split(train_data, test_size=0.1, random_state=42)\n",
        "\n",
        "# 4. Tampilkan jumlah data masing-masing\n",
        "print(\"Jumlah Data Training:\", len(train_data))\n",
        "print(\"Jumlah Data Validation:\", len(val_data))\n",
        "print(\"Jumlah Data Testing:\", len(test_data))\n",
        "\n",
        "# 5. Tampilkan 5 baris pertama setiap set\n",
        "print(\"\\nData Training:\")\n",
        "print(train_data.head())\n",
        "\n",
        "print(\"\\nData Validation:\")\n",
        "print(val_data.head())\n",
        "\n",
        "print(\"\\nData Testing:\")\n",
        "print(test_data.head())"
      ],
      "metadata": {
        "colab": {
          "base_uri": "https://localhost:8080/"
        },
        "id": "X-pxdS0Xn1x8",
        "outputId": "8280b3d9-a191-4cc0-9b3d-b44e2b403108"
      },
      "execution_count": null,
      "outputs": [
        {
          "output_type": "stream",
          "name": "stdout",
          "text": [
            "Jumlah Data Training: 525\n",
            "Jumlah Data Validation: 59\n",
            "Jumlah Data Testing: 147\n",
            "\n",
            "Data Training:\n",
            "     instant      dteday  season  yr  mnth  holiday  weekday  workingday  \\\n",
            "657      658  2012-10-19       4   1    10        0        5           1   \n",
            "163      164  2011-06-13       2   0     6        0        1           1   \n",
            "305      306  2011-11-02       4   0    11        0        3           1   \n",
            "111      112  2011-04-22       2   0     4        0        5           1   \n",
            "538      539  2012-06-22       3   1     6        0        5           1   \n",
            "\n",
            "     weathersit      temp     atemp       hum  windspeed  casual  registered  \\\n",
            "657           2  0.563333  0.537896  0.815000   0.134954     753        4671   \n",
            "163           1  0.635000  0.601654  0.494583   0.305350     863        4157   \n",
            "305           1  0.377500  0.390133  0.718750   0.082092     370        3816   \n",
            "111           2  0.336667  0.321954  0.729583   0.219521     177        1506   \n",
            "538           1  0.777500  0.724121  0.573750   0.182842     964        4859   \n",
            "\n",
            "      cnt  \n",
            "657  5424  \n",
            "163  5020  \n",
            "305  4186  \n",
            "111  1683  \n",
            "538  5823  \n",
            "\n",
            "Data Validation:\n",
            "     instant      dteday  season  yr  mnth  holiday  weekday  workingday  \\\n",
            "325      326  2011-11-22       4   0    11        0        2           1   \n",
            "410      411  2012-02-15       1   1     2        0        3           1   \n",
            "92        93  2011-04-03       2   0     4        0        0           0   \n",
            "47        48  2011-02-17       1   0     2        0        4           1   \n",
            "508      509  2012-05-23       2   1     5        0        3           1   \n",
            "\n",
            "     weathersit      temp     atemp       hum  windspeed  casual  registered  \\\n",
            "325           3  0.416667  0.421696  0.962500   0.118792      69        1538   \n",
            "410           1  0.348333  0.351629  0.531250   0.181600     141        4028   \n",
            "92            1  0.378333  0.378767  0.480000   0.182213    1651        1598   \n",
            "47            1  0.435833  0.428658  0.505000   0.230104     259        2216   \n",
            "508           2  0.621667  0.584612  0.774583   0.102000     766        4494   \n",
            "\n",
            "      cnt  \n",
            "325  1607  \n",
            "410  4169  \n",
            "92   3249  \n",
            "47   2475  \n",
            "508  5260  \n",
            "\n",
            "Data Testing:\n",
            "     instant      dteday  season  yr  mnth  holiday  weekday  workingday  \\\n",
            "703      704  2012-12-04       4   1    12        0        2           1   \n",
            "33        34  2011-02-03       1   0     2        0        4           1   \n",
            "300      301  2011-10-28       4   0    10        0        5           1   \n",
            "456      457  2012-04-01       2   1     4        0        0           0   \n",
            "633      634  2012-09-25       4   1     9        0        2           1   \n",
            "\n",
            "     weathersit      temp     atemp       hum  windspeed  casual  registered  \\\n",
            "703           1  0.475833  0.469054  0.733750   0.174129     551        6055   \n",
            "33            1  0.186957  0.177878  0.437826   0.277752      61        1489   \n",
            "300           2  0.330833  0.318812  0.585833   0.229479     456        3291   \n",
            "456           2  0.425833  0.417287  0.676250   0.172267    2347        3694   \n",
            "633           1  0.550000  0.544179  0.570000   0.236321     845        6693   \n",
            "\n",
            "      cnt  \n",
            "703  6606  \n",
            "33   1550  \n",
            "300  3747  \n",
            "456  6041  \n",
            "633  7538  \n"
          ]
        }
      ]
    }
  ]
}